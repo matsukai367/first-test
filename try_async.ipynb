{
 "cells": [
  {
   "cell_type": "code",
   "execution_count": 2,
   "id": "42f2229d",
   "metadata": {},
   "outputs": [
    {
     "data": {
      "text/html": [
       "<pre style=\"white-space:pre;overflow-x:auto;line-height:normal;font-family:Menlo,'DejaVu Sans Mono',consolas,'Courier New',monospace\"><span style=\"font-weight: bold\">[</span>\n",
       "    <span style=\"font-weight: bold\">{</span>\n",
       "        <span style=\"color: #008000; text-decoration-color: #008000\">'symbol'</span>: <span style=\"color: #008000; text-decoration-color: #008000\">'BTCUSD'</span>,\n",
       "        <span style=\"color: #008000; text-decoration-color: #008000\">'bid_price'</span>: <span style=\"color: #008000; text-decoration-color: #008000\">'50062.5'</span>,\n",
       "        <span style=\"color: #008000; text-decoration-color: #008000\">'ask_price'</span>: <span style=\"color: #008000; text-decoration-color: #008000\">'50063'</span>,\n",
       "        <span style=\"color: #008000; text-decoration-color: #008000\">'last_price'</span>: <span style=\"color: #008000; text-decoration-color: #008000\">'50062.50'</span>,\n",
       "        <span style=\"color: #008000; text-decoration-color: #008000\">'last_tick_direction'</span>: <span style=\"color: #008000; text-decoration-color: #008000\">'ZeroMinusTick'</span>,\n",
       "        <span style=\"color: #008000; text-decoration-color: #008000\">'prev_price_24h'</span>: <span style=\"color: #008000; text-decoration-color: #008000\">'50558.00'</span>,\n",
       "        <span style=\"color: #008000; text-decoration-color: #008000\">'price_24h_pcnt'</span>: <span style=\"color: #008000; text-decoration-color: #008000\">'-0.0098'</span>,\n",
       "        <span style=\"color: #008000; text-decoration-color: #008000\">'high_price_24h'</span>: <span style=\"color: #008000; text-decoration-color: #008000\">'51179.00'</span>,\n",
       "        <span style=\"color: #008000; text-decoration-color: #008000\">'low_price_24h'</span>: <span style=\"color: #008000; text-decoration-color: #008000\">'49616.00'</span>,\n",
       "        <span style=\"color: #008000; text-decoration-color: #008000\">'prev_price_1h'</span>: <span style=\"color: #008000; text-decoration-color: #008000\">'50012.00'</span>,\n",
       "        <span style=\"color: #008000; text-decoration-color: #008000\">'price_1h_pcnt'</span>: <span style=\"color: #008000; text-decoration-color: #008000\">'0.001009'</span>,\n",
       "        <span style=\"color: #008000; text-decoration-color: #008000\">'mark_price'</span>: <span style=\"color: #008000; text-decoration-color: #008000\">'50090.02'</span>,\n",
       "        <span style=\"color: #008000; text-decoration-color: #008000\">'index_price'</span>: <span style=\"color: #008000; text-decoration-color: #008000\">'50086.91'</span>,\n",
       "        <span style=\"color: #008000; text-decoration-color: #008000\">'open_interest'</span>: <span style=\"color: #008080; text-decoration-color: #008080; font-weight: bold\">1023434652</span>,\n",
       "        <span style=\"color: #008000; text-decoration-color: #008000\">'open_value'</span>: <span style=\"color: #008000; text-decoration-color: #008000\">'14616.80'</span>,\n",
       "        <span style=\"color: #008000; text-decoration-color: #008000\">'total_turnover'</span>: <span style=\"color: #008000; text-decoration-color: #008000\">'99405456.47'</span>,\n",
       "        <span style=\"color: #008000; text-decoration-color: #008000\">'turnover_24h'</span>: <span style=\"color: #008000; text-decoration-color: #008000\">'27947.08'</span>,\n",
       "        <span style=\"color: #008000; text-decoration-color: #008000\">'total_volume'</span>: <span style=\"color: #008080; text-decoration-color: #008080; font-weight: bold\">2497980350589</span>,\n",
       "        <span style=\"color: #008000; text-decoration-color: #008000\">'volume_24h'</span>: <span style=\"color: #008080; text-decoration-color: #008080; font-weight: bold\">1407994931</span>,\n",
       "        <span style=\"color: #008000; text-decoration-color: #008000\">'funding_rate'</span>: <span style=\"color: #008000; text-decoration-color: #008000\">'0.000098'</span>,\n",
       "        <span style=\"color: #008000; text-decoration-color: #008000\">'predicted_funding_rate'</span>: <span style=\"color: #008000; text-decoration-color: #008000\">'0.000069'</span>,\n",
       "        <span style=\"color: #008000; text-decoration-color: #008000\">'next_funding_time'</span>: <span style=\"color: #008000; text-decoration-color: #008000\">'2021-12-26T16:00:00Z'</span>,\n",
       "        <span style=\"color: #008000; text-decoration-color: #008000\">'countdown_hour'</span>: <span style=\"color: #008080; text-decoration-color: #008080; font-weight: bold\">6</span>,\n",
       "        <span style=\"color: #008000; text-decoration-color: #008000\">'delivery_fee_rate'</span>: <span style=\"color: #008000; text-decoration-color: #008000\">'0'</span>,\n",
       "        <span style=\"color: #008000; text-decoration-color: #008000\">'predicted_delivery_price'</span>: <span style=\"color: #008000; text-decoration-color: #008000\">''</span>,\n",
       "        <span style=\"color: #008000; text-decoration-color: #008000\">'delivery_time'</span>: <span style=\"color: #008000; text-decoration-color: #008000\">''</span>\n",
       "    <span style=\"font-weight: bold\">}</span>\n",
       "<span style=\"font-weight: bold\">]</span>\n",
       "</pre>\n"
      ],
      "text/plain": [
       "\u001b[1m[\u001b[0m\n",
       "    \u001b[1m{\u001b[0m\n",
       "        \u001b[32m'symbol'\u001b[0m: \u001b[32m'BTCUSD'\u001b[0m,\n",
       "        \u001b[32m'bid_price'\u001b[0m: \u001b[32m'50062.5'\u001b[0m,\n",
       "        \u001b[32m'ask_price'\u001b[0m: \u001b[32m'50063'\u001b[0m,\n",
       "        \u001b[32m'last_price'\u001b[0m: \u001b[32m'50062.50'\u001b[0m,\n",
       "        \u001b[32m'last_tick_direction'\u001b[0m: \u001b[32m'ZeroMinusTick'\u001b[0m,\n",
       "        \u001b[32m'prev_price_24h'\u001b[0m: \u001b[32m'50558.00'\u001b[0m,\n",
       "        \u001b[32m'price_24h_pcnt'\u001b[0m: \u001b[32m'-0.0098'\u001b[0m,\n",
       "        \u001b[32m'high_price_24h'\u001b[0m: \u001b[32m'51179.00'\u001b[0m,\n",
       "        \u001b[32m'low_price_24h'\u001b[0m: \u001b[32m'49616.00'\u001b[0m,\n",
       "        \u001b[32m'prev_price_1h'\u001b[0m: \u001b[32m'50012.00'\u001b[0m,\n",
       "        \u001b[32m'price_1h_pcnt'\u001b[0m: \u001b[32m'0.001009'\u001b[0m,\n",
       "        \u001b[32m'mark_price'\u001b[0m: \u001b[32m'50090.02'\u001b[0m,\n",
       "        \u001b[32m'index_price'\u001b[0m: \u001b[32m'50086.91'\u001b[0m,\n",
       "        \u001b[32m'open_interest'\u001b[0m: \u001b[1;36m1023434652\u001b[0m,\n",
       "        \u001b[32m'open_value'\u001b[0m: \u001b[32m'14616.80'\u001b[0m,\n",
       "        \u001b[32m'total_turnover'\u001b[0m: \u001b[32m'99405456.47'\u001b[0m,\n",
       "        \u001b[32m'turnover_24h'\u001b[0m: \u001b[32m'27947.08'\u001b[0m,\n",
       "        \u001b[32m'total_volume'\u001b[0m: \u001b[1;36m2497980350589\u001b[0m,\n",
       "        \u001b[32m'volume_24h'\u001b[0m: \u001b[1;36m1407994931\u001b[0m,\n",
       "        \u001b[32m'funding_rate'\u001b[0m: \u001b[32m'0.000098'\u001b[0m,\n",
       "        \u001b[32m'predicted_funding_rate'\u001b[0m: \u001b[32m'0.000069'\u001b[0m,\n",
       "        \u001b[32m'next_funding_time'\u001b[0m: \u001b[32m'2021-12-26T16:00:00Z'\u001b[0m,\n",
       "        \u001b[32m'countdown_hour'\u001b[0m: \u001b[1;36m6\u001b[0m,\n",
       "        \u001b[32m'delivery_fee_rate'\u001b[0m: \u001b[32m'0'\u001b[0m,\n",
       "        \u001b[32m'predicted_delivery_price'\u001b[0m: \u001b[32m''\u001b[0m,\n",
       "        \u001b[32m'delivery_time'\u001b[0m: \u001b[32m''\u001b[0m\n",
       "    \u001b[1m}\u001b[0m\n",
       "\u001b[1m]\u001b[0m\n"
      ]
     },
     "metadata": {},
     "output_type": "display_data"
    }
   ],
   "source": [
    "import asyncio\n",
    "import aiohttp\n",
    "from rich import print\n",
    "\n",
    "async def main():\n",
    "    async with aiohttp.ClientSession() as session:\n",
    "        r = await session.get(\"https://api.bybit.com/v2/public/tickers\", params={\"symbol\": \"BTCUSD\"})\n",
    "        data = await r.json()\n",
    "        print(data[\"result\"])\n",
    "\n",
    "asyncio.set_event_loop_policy(asyncio.WindowsSelectorEventLoopPolicy())\n",
    "await main()"
   ]
  },
  {
   "cell_type": "code",
   "execution_count": null,
   "id": "aaebcac6",
   "metadata": {},
   "outputs": [],
   "source": []
  }
 ],
 "metadata": {
  "kernelspec": {
   "display_name": "Python 3 (ipykernel)",
   "language": "python",
   "name": "python3"
  },
  "language_info": {
   "codemirror_mode": {
    "name": "ipython",
    "version": 3
   },
   "file_extension": ".py",
   "mimetype": "text/x-python",
   "name": "python",
   "nbconvert_exporter": "python",
   "pygments_lexer": "ipython3",
   "version": "3.8.11"
  }
 },
 "nbformat": 4,
 "nbformat_minor": 5
}
