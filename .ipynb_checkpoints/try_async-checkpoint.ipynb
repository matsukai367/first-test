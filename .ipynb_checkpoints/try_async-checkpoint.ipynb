{
 "cells": [
  {
   "cell_type": "code",
   "execution_count": 7,
   "id": "42f2229d",
   "metadata": {},
   "outputs": [
    {
     "name": "stderr",
     "output_type": "stream",
     "text": [
      "C:\\Users\\marud\\anaconda3\\envs\\ccxt\\lib\\concurrent\\futures\\thread.py:46: RuntimeWarning: coroutine 'main' was never awaited\n",
      "  def __init__(self, future, fn, args, kwargs):\n",
      "RuntimeWarning: Enable tracemalloc to get the object allocation traceback\n"
     ]
    },
    {
     "name": "stdout",
     "output_type": "stream",
     "text": [
      "[{'symbol': 'BTCUSD', 'bid_price': '49869.5', 'ask_price': '49870', 'last_price': '49870.00', 'last_tick_direction': 'ZeroPlusTick', 'prev_price_24h': '50813.00', 'price_24h_pcnt': '-0.018558', 'high_price_24h': '51179.00', 'low_price_24h': '49616.00', 'prev_price_1h': '49899.50', 'price_1h_pcnt': '-0.000591', 'mark_price': '49908.87', 'index_price': '49907.85', 'open_interest': 1038998892, 'open_value': '14616.80', 'total_turnover': '99402153.25', 'turnover_24h': '27556.09', 'total_volume': 2497815299510, 'volume_24h': 1390967737, 'funding_rate': '0.0001', 'predicted_funding_rate': '0.000086', 'next_funding_time': '2021-12-26T08:00:00Z', 'countdown_hour': 2, 'delivery_fee_rate': '0', 'predicted_delivery_price': '', 'delivery_time': ''}]\n"
     ]
    }
   ],
   "source": [
    "import asyncio\n",
    "import aiohttp\n",
    "\n",
    "async def main():\n",
    "    async with aiohttp.ClientSession() as session:\n",
    "        r = await session.get(\"https://api.bybit.com/v2/public/tickers\", params={\"symbol\": \"BTCUSD\"})\n",
    "        data = await r.json()\n",
    "        print(data[\"result\"])\n",
    "\n",
    "asyncio.set_event_loop_policy(asyncio.WindowsSelectorEventLoopPolicy())\n",
    "await main()"
   ]
  },
  {
   "cell_type": "code",
   "execution_count": null,
   "id": "aaebcac6",
   "metadata": {},
   "outputs": [],
   "source": []
  }
 ],
 "metadata": {
  "kernelspec": {
   "display_name": "Python 3 (ipykernel)",
   "language": "python",
   "name": "python3"
  },
  "language_info": {
   "codemirror_mode": {
    "name": "ipython",
    "version": 3
   },
   "file_extension": ".py",
   "mimetype": "text/x-python",
   "name": "python",
   "nbconvert_exporter": "python",
   "pygments_lexer": "ipython3",
   "version": "3.8.11"
  }
 },
 "nbformat": 4,
 "nbformat_minor": 5
}
